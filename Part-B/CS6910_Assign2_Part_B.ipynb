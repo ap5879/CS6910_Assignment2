{
  "nbformat": 4,
  "nbformat_minor": 0,
  "metadata": {
    "colab": {
      "name": "CS6910_Assign2_Part-B.ipynb",
      "provenance": []
    },
    "kernelspec": {
      "name": "python3",
      "display_name": "Python 3"
    },
    "language_info": {
      "name": "python"
    },
    "widgets": {
      "application/vnd.jupyter.widget-state+json": {
        "43b0566c1dc94b2788a0d98e75e1eb30": {
          "model_module": "@jupyter-widgets/controls",
          "model_name": "VBoxModel",
          "model_module_version": "1.5.0",
          "state": {
            "_dom_classes": [],
            "_model_module": "@jupyter-widgets/controls",
            "_model_module_version": "1.5.0",
            "_model_name": "VBoxModel",
            "_view_count": null,
            "_view_module": "@jupyter-widgets/controls",
            "_view_module_version": "1.5.0",
            "_view_name": "VBoxView",
            "box_style": "",
            "children": [
              "IPY_MODEL_0b4cdb3c73424f8dba5b0d9047712f2d",
              "IPY_MODEL_c89a560502b141d7b398f961ec895a41"
            ],
            "layout": "IPY_MODEL_a9adfb0f686b461ea6deb558d2529c72"
          }
        },
        "0b4cdb3c73424f8dba5b0d9047712f2d": {
          "model_module": "@jupyter-widgets/controls",
          "model_name": "LabelModel",
          "model_module_version": "1.5.0",
          "state": {
            "_dom_classes": [],
            "_model_module": "@jupyter-widgets/controls",
            "_model_module_version": "1.5.0",
            "_model_name": "LabelModel",
            "_view_count": null,
            "_view_module": "@jupyter-widgets/controls",
            "_view_module_version": "1.5.0",
            "_view_name": "LabelView",
            "description": "",
            "description_tooltip": null,
            "layout": "IPY_MODEL_a1265513c6f14f7dae11e58633df6e48",
            "placeholder": "​",
            "style": "IPY_MODEL_0e68263f38c04877a74e2c14feed5362",
            "value": "0.008 MB of 0.008 MB uploaded (0.000 MB deduped)\r"
          }
        },
        "c89a560502b141d7b398f961ec895a41": {
          "model_module": "@jupyter-widgets/controls",
          "model_name": "FloatProgressModel",
          "model_module_version": "1.5.0",
          "state": {
            "_dom_classes": [],
            "_model_module": "@jupyter-widgets/controls",
            "_model_module_version": "1.5.0",
            "_model_name": "FloatProgressModel",
            "_view_count": null,
            "_view_module": "@jupyter-widgets/controls",
            "_view_module_version": "1.5.0",
            "_view_name": "ProgressView",
            "bar_style": "",
            "description": "",
            "description_tooltip": null,
            "layout": "IPY_MODEL_51e1b0c3f9054c4dad19ef1c4ce5509a",
            "max": 1,
            "min": 0,
            "orientation": "horizontal",
            "style": "IPY_MODEL_73456fdac49145d3ad4106c02de178a4",
            "value": 1
          }
        },
        "a9adfb0f686b461ea6deb558d2529c72": {
          "model_module": "@jupyter-widgets/base",
          "model_name": "LayoutModel",
          "model_module_version": "1.2.0",
          "state": {
            "_model_module": "@jupyter-widgets/base",
            "_model_module_version": "1.2.0",
            "_model_name": "LayoutModel",
            "_view_count": null,
            "_view_module": "@jupyter-widgets/base",
            "_view_module_version": "1.2.0",
            "_view_name": "LayoutView",
            "align_content": null,
            "align_items": null,
            "align_self": null,
            "border": null,
            "bottom": null,
            "display": null,
            "flex": null,
            "flex_flow": null,
            "grid_area": null,
            "grid_auto_columns": null,
            "grid_auto_flow": null,
            "grid_auto_rows": null,
            "grid_column": null,
            "grid_gap": null,
            "grid_row": null,
            "grid_template_areas": null,
            "grid_template_columns": null,
            "grid_template_rows": null,
            "height": null,
            "justify_content": null,
            "justify_items": null,
            "left": null,
            "margin": null,
            "max_height": null,
            "max_width": null,
            "min_height": null,
            "min_width": null,
            "object_fit": null,
            "object_position": null,
            "order": null,
            "overflow": null,
            "overflow_x": null,
            "overflow_y": null,
            "padding": null,
            "right": null,
            "top": null,
            "visibility": null,
            "width": null
          }
        },
        "a1265513c6f14f7dae11e58633df6e48": {
          "model_module": "@jupyter-widgets/base",
          "model_name": "LayoutModel",
          "model_module_version": "1.2.0",
          "state": {
            "_model_module": "@jupyter-widgets/base",
            "_model_module_version": "1.2.0",
            "_model_name": "LayoutModel",
            "_view_count": null,
            "_view_module": "@jupyter-widgets/base",
            "_view_module_version": "1.2.0",
            "_view_name": "LayoutView",
            "align_content": null,
            "align_items": null,
            "align_self": null,
            "border": null,
            "bottom": null,
            "display": null,
            "flex": null,
            "flex_flow": null,
            "grid_area": null,
            "grid_auto_columns": null,
            "grid_auto_flow": null,
            "grid_auto_rows": null,
            "grid_column": null,
            "grid_gap": null,
            "grid_row": null,
            "grid_template_areas": null,
            "grid_template_columns": null,
            "grid_template_rows": null,
            "height": null,
            "justify_content": null,
            "justify_items": null,
            "left": null,
            "margin": null,
            "max_height": null,
            "max_width": null,
            "min_height": null,
            "min_width": null,
            "object_fit": null,
            "object_position": null,
            "order": null,
            "overflow": null,
            "overflow_x": null,
            "overflow_y": null,
            "padding": null,
            "right": null,
            "top": null,
            "visibility": null,
            "width": null
          }
        },
        "0e68263f38c04877a74e2c14feed5362": {
          "model_module": "@jupyter-widgets/controls",
          "model_name": "DescriptionStyleModel",
          "model_module_version": "1.5.0",
          "state": {
            "_model_module": "@jupyter-widgets/controls",
            "_model_module_version": "1.5.0",
            "_model_name": "DescriptionStyleModel",
            "_view_count": null,
            "_view_module": "@jupyter-widgets/base",
            "_view_module_version": "1.2.0",
            "_view_name": "StyleView",
            "description_width": ""
          }
        },
        "51e1b0c3f9054c4dad19ef1c4ce5509a": {
          "model_module": "@jupyter-widgets/base",
          "model_name": "LayoutModel",
          "model_module_version": "1.2.0",
          "state": {
            "_model_module": "@jupyter-widgets/base",
            "_model_module_version": "1.2.0",
            "_model_name": "LayoutModel",
            "_view_count": null,
            "_view_module": "@jupyter-widgets/base",
            "_view_module_version": "1.2.0",
            "_view_name": "LayoutView",
            "align_content": null,
            "align_items": null,
            "align_self": null,
            "border": null,
            "bottom": null,
            "display": null,
            "flex": null,
            "flex_flow": null,
            "grid_area": null,
            "grid_auto_columns": null,
            "grid_auto_flow": null,
            "grid_auto_rows": null,
            "grid_column": null,
            "grid_gap": null,
            "grid_row": null,
            "grid_template_areas": null,
            "grid_template_columns": null,
            "grid_template_rows": null,
            "height": null,
            "justify_content": null,
            "justify_items": null,
            "left": null,
            "margin": null,
            "max_height": null,
            "max_width": null,
            "min_height": null,
            "min_width": null,
            "object_fit": null,
            "object_position": null,
            "order": null,
            "overflow": null,
            "overflow_x": null,
            "overflow_y": null,
            "padding": null,
            "right": null,
            "top": null,
            "visibility": null,
            "width": null
          }
        },
        "73456fdac49145d3ad4106c02de178a4": {
          "model_module": "@jupyter-widgets/controls",
          "model_name": "ProgressStyleModel",
          "model_module_version": "1.5.0",
          "state": {
            "_model_module": "@jupyter-widgets/controls",
            "_model_module_version": "1.5.0",
            "_model_name": "ProgressStyleModel",
            "_view_count": null,
            "_view_module": "@jupyter-widgets/base",
            "_view_module_version": "1.2.0",
            "_view_name": "StyleView",
            "bar_color": null,
            "description_width": ""
          }
        },
        "dfadc63fc1d44576b1929e2fffdee270": {
          "model_module": "@jupyter-widgets/controls",
          "model_name": "VBoxModel",
          "model_module_version": "1.5.0",
          "state": {
            "_dom_classes": [],
            "_model_module": "@jupyter-widgets/controls",
            "_model_module_version": "1.5.0",
            "_model_name": "VBoxModel",
            "_view_count": null,
            "_view_module": "@jupyter-widgets/controls",
            "_view_module_version": "1.5.0",
            "_view_name": "VBoxView",
            "box_style": "",
            "children": [
              "IPY_MODEL_4adabf5dc088487788c578a8983505f2",
              "IPY_MODEL_68060aa0817447579507797272174997"
            ],
            "layout": "IPY_MODEL_f61dce59939f44d39024c934b4caf494"
          }
        },
        "4adabf5dc088487788c578a8983505f2": {
          "model_module": "@jupyter-widgets/controls",
          "model_name": "LabelModel",
          "model_module_version": "1.5.0",
          "state": {
            "_dom_classes": [],
            "_model_module": "@jupyter-widgets/controls",
            "_model_module_version": "1.5.0",
            "_model_name": "LabelModel",
            "_view_count": null,
            "_view_module": "@jupyter-widgets/controls",
            "_view_module_version": "1.5.0",
            "_view_name": "LabelView",
            "description": "",
            "description_tooltip": null,
            "layout": "IPY_MODEL_718a14ff63a9495aa904e7492f18747c",
            "placeholder": "​",
            "style": "IPY_MODEL_98fbf8af0deb4dbbbb193bf5cdad1d43",
            "value": "1.536 MB of 1.536 MB uploaded (0.000 MB deduped)\r"
          }
        },
        "68060aa0817447579507797272174997": {
          "model_module": "@jupyter-widgets/controls",
          "model_name": "FloatProgressModel",
          "model_module_version": "1.5.0",
          "state": {
            "_dom_classes": [],
            "_model_module": "@jupyter-widgets/controls",
            "_model_module_version": "1.5.0",
            "_model_name": "FloatProgressModel",
            "_view_count": null,
            "_view_module": "@jupyter-widgets/controls",
            "_view_module_version": "1.5.0",
            "_view_name": "ProgressView",
            "bar_style": "",
            "description": "",
            "description_tooltip": null,
            "layout": "IPY_MODEL_1a5878df337043cd8d608cf7a3f589a5",
            "max": 1,
            "min": 0,
            "orientation": "horizontal",
            "style": "IPY_MODEL_b20e68de47af4837b1fc931e2a161a06",
            "value": 1
          }
        },
        "f61dce59939f44d39024c934b4caf494": {
          "model_module": "@jupyter-widgets/base",
          "model_name": "LayoutModel",
          "model_module_version": "1.2.0",
          "state": {
            "_model_module": "@jupyter-widgets/base",
            "_model_module_version": "1.2.0",
            "_model_name": "LayoutModel",
            "_view_count": null,
            "_view_module": "@jupyter-widgets/base",
            "_view_module_version": "1.2.0",
            "_view_name": "LayoutView",
            "align_content": null,
            "align_items": null,
            "align_self": null,
            "border": null,
            "bottom": null,
            "display": null,
            "flex": null,
            "flex_flow": null,
            "grid_area": null,
            "grid_auto_columns": null,
            "grid_auto_flow": null,
            "grid_auto_rows": null,
            "grid_column": null,
            "grid_gap": null,
            "grid_row": null,
            "grid_template_areas": null,
            "grid_template_columns": null,
            "grid_template_rows": null,
            "height": null,
            "justify_content": null,
            "justify_items": null,
            "left": null,
            "margin": null,
            "max_height": null,
            "max_width": null,
            "min_height": null,
            "min_width": null,
            "object_fit": null,
            "object_position": null,
            "order": null,
            "overflow": null,
            "overflow_x": null,
            "overflow_y": null,
            "padding": null,
            "right": null,
            "top": null,
            "visibility": null,
            "width": null
          }
        },
        "718a14ff63a9495aa904e7492f18747c": {
          "model_module": "@jupyter-widgets/base",
          "model_name": "LayoutModel",
          "model_module_version": "1.2.0",
          "state": {
            "_model_module": "@jupyter-widgets/base",
            "_model_module_version": "1.2.0",
            "_model_name": "LayoutModel",
            "_view_count": null,
            "_view_module": "@jupyter-widgets/base",
            "_view_module_version": "1.2.0",
            "_view_name": "LayoutView",
            "align_content": null,
            "align_items": null,
            "align_self": null,
            "border": null,
            "bottom": null,
            "display": null,
            "flex": null,
            "flex_flow": null,
            "grid_area": null,
            "grid_auto_columns": null,
            "grid_auto_flow": null,
            "grid_auto_rows": null,
            "grid_column": null,
            "grid_gap": null,
            "grid_row": null,
            "grid_template_areas": null,
            "grid_template_columns": null,
            "grid_template_rows": null,
            "height": null,
            "justify_content": null,
            "justify_items": null,
            "left": null,
            "margin": null,
            "max_height": null,
            "max_width": null,
            "min_height": null,
            "min_width": null,
            "object_fit": null,
            "object_position": null,
            "order": null,
            "overflow": null,
            "overflow_x": null,
            "overflow_y": null,
            "padding": null,
            "right": null,
            "top": null,
            "visibility": null,
            "width": null
          }
        },
        "98fbf8af0deb4dbbbb193bf5cdad1d43": {
          "model_module": "@jupyter-widgets/controls",
          "model_name": "DescriptionStyleModel",
          "model_module_version": "1.5.0",
          "state": {
            "_model_module": "@jupyter-widgets/controls",
            "_model_module_version": "1.5.0",
            "_model_name": "DescriptionStyleModel",
            "_view_count": null,
            "_view_module": "@jupyter-widgets/base",
            "_view_module_version": "1.2.0",
            "_view_name": "StyleView",
            "description_width": ""
          }
        },
        "1a5878df337043cd8d608cf7a3f589a5": {
          "model_module": "@jupyter-widgets/base",
          "model_name": "LayoutModel",
          "model_module_version": "1.2.0",
          "state": {
            "_model_module": "@jupyter-widgets/base",
            "_model_module_version": "1.2.0",
            "_model_name": "LayoutModel",
            "_view_count": null,
            "_view_module": "@jupyter-widgets/base",
            "_view_module_version": "1.2.0",
            "_view_name": "LayoutView",
            "align_content": null,
            "align_items": null,
            "align_self": null,
            "border": null,
            "bottom": null,
            "display": null,
            "flex": null,
            "flex_flow": null,
            "grid_area": null,
            "grid_auto_columns": null,
            "grid_auto_flow": null,
            "grid_auto_rows": null,
            "grid_column": null,
            "grid_gap": null,
            "grid_row": null,
            "grid_template_areas": null,
            "grid_template_columns": null,
            "grid_template_rows": null,
            "height": null,
            "justify_content": null,
            "justify_items": null,
            "left": null,
            "margin": null,
            "max_height": null,
            "max_width": null,
            "min_height": null,
            "min_width": null,
            "object_fit": null,
            "object_position": null,
            "order": null,
            "overflow": null,
            "overflow_x": null,
            "overflow_y": null,
            "padding": null,
            "right": null,
            "top": null,
            "visibility": null,
            "width": null
          }
        },
        "b20e68de47af4837b1fc931e2a161a06": {
          "model_module": "@jupyter-widgets/controls",
          "model_name": "ProgressStyleModel",
          "model_module_version": "1.5.0",
          "state": {
            "_model_module": "@jupyter-widgets/controls",
            "_model_module_version": "1.5.0",
            "_model_name": "ProgressStyleModel",
            "_view_count": null,
            "_view_module": "@jupyter-widgets/base",
            "_view_module_version": "1.2.0",
            "_view_name": "StyleView",
            "bar_color": null,
            "description_width": ""
          }
        },
        "6223619ee30046389b71295a5846215a": {
          "model_module": "@jupyter-widgets/controls",
          "model_name": "VBoxModel",
          "model_module_version": "1.5.0",
          "state": {
            "_dom_classes": [],
            "_model_module": "@jupyter-widgets/controls",
            "_model_module_version": "1.5.0",
            "_model_name": "VBoxModel",
            "_view_count": null,
            "_view_module": "@jupyter-widgets/controls",
            "_view_module_version": "1.5.0",
            "_view_name": "VBoxView",
            "box_style": "",
            "children": [
              "IPY_MODEL_a2c86ffd7fff4a01b512542042d02133",
              "IPY_MODEL_287dbfdf3fea4181adc7cf9cbc38d645"
            ],
            "layout": "IPY_MODEL_d918ebca72e245f39ec5005f0cd6c04d"
          }
        },
        "a2c86ffd7fff4a01b512542042d02133": {
          "model_module": "@jupyter-widgets/controls",
          "model_name": "LabelModel",
          "model_module_version": "1.5.0",
          "state": {
            "_dom_classes": [],
            "_model_module": "@jupyter-widgets/controls",
            "_model_module_version": "1.5.0",
            "_model_name": "LabelModel",
            "_view_count": null,
            "_view_module": "@jupyter-widgets/controls",
            "_view_module_version": "1.5.0",
            "_view_name": "LabelView",
            "description": "",
            "description_tooltip": null,
            "layout": "IPY_MODEL_baecf79377374248aa8f4a2360121da7",
            "placeholder": "​",
            "style": "IPY_MODEL_2dd2abd3817c452c8497e53237187a25",
            "value": "3.519 MB of 3.519 MB uploaded (0.000 MB deduped)\r"
          }
        },
        "287dbfdf3fea4181adc7cf9cbc38d645": {
          "model_module": "@jupyter-widgets/controls",
          "model_name": "FloatProgressModel",
          "model_module_version": "1.5.0",
          "state": {
            "_dom_classes": [],
            "_model_module": "@jupyter-widgets/controls",
            "_model_module_version": "1.5.0",
            "_model_name": "FloatProgressModel",
            "_view_count": null,
            "_view_module": "@jupyter-widgets/controls",
            "_view_module_version": "1.5.0",
            "_view_name": "ProgressView",
            "bar_style": "",
            "description": "",
            "description_tooltip": null,
            "layout": "IPY_MODEL_39e27a011eb54491ad6ddf9213ed7f8c",
            "max": 1,
            "min": 0,
            "orientation": "horizontal",
            "style": "IPY_MODEL_7cbef07e28454d9c95013ca876a1126e",
            "value": 1
          }
        },
        "d918ebca72e245f39ec5005f0cd6c04d": {
          "model_module": "@jupyter-widgets/base",
          "model_name": "LayoutModel",
          "model_module_version": "1.2.0",
          "state": {
            "_model_module": "@jupyter-widgets/base",
            "_model_module_version": "1.2.0",
            "_model_name": "LayoutModel",
            "_view_count": null,
            "_view_module": "@jupyter-widgets/base",
            "_view_module_version": "1.2.0",
            "_view_name": "LayoutView",
            "align_content": null,
            "align_items": null,
            "align_self": null,
            "border": null,
            "bottom": null,
            "display": null,
            "flex": null,
            "flex_flow": null,
            "grid_area": null,
            "grid_auto_columns": null,
            "grid_auto_flow": null,
            "grid_auto_rows": null,
            "grid_column": null,
            "grid_gap": null,
            "grid_row": null,
            "grid_template_areas": null,
            "grid_template_columns": null,
            "grid_template_rows": null,
            "height": null,
            "justify_content": null,
            "justify_items": null,
            "left": null,
            "margin": null,
            "max_height": null,
            "max_width": null,
            "min_height": null,
            "min_width": null,
            "object_fit": null,
            "object_position": null,
            "order": null,
            "overflow": null,
            "overflow_x": null,
            "overflow_y": null,
            "padding": null,
            "right": null,
            "top": null,
            "visibility": null,
            "width": null
          }
        },
        "baecf79377374248aa8f4a2360121da7": {
          "model_module": "@jupyter-widgets/base",
          "model_name": "LayoutModel",
          "model_module_version": "1.2.0",
          "state": {
            "_model_module": "@jupyter-widgets/base",
            "_model_module_version": "1.2.0",
            "_model_name": "LayoutModel",
            "_view_count": null,
            "_view_module": "@jupyter-widgets/base",
            "_view_module_version": "1.2.0",
            "_view_name": "LayoutView",
            "align_content": null,
            "align_items": null,
            "align_self": null,
            "border": null,
            "bottom": null,
            "display": null,
            "flex": null,
            "flex_flow": null,
            "grid_area": null,
            "grid_auto_columns": null,
            "grid_auto_flow": null,
            "grid_auto_rows": null,
            "grid_column": null,
            "grid_gap": null,
            "grid_row": null,
            "grid_template_areas": null,
            "grid_template_columns": null,
            "grid_template_rows": null,
            "height": null,
            "justify_content": null,
            "justify_items": null,
            "left": null,
            "margin": null,
            "max_height": null,
            "max_width": null,
            "min_height": null,
            "min_width": null,
            "object_fit": null,
            "object_position": null,
            "order": null,
            "overflow": null,
            "overflow_x": null,
            "overflow_y": null,
            "padding": null,
            "right": null,
            "top": null,
            "visibility": null,
            "width": null
          }
        },
        "2dd2abd3817c452c8497e53237187a25": {
          "model_module": "@jupyter-widgets/controls",
          "model_name": "DescriptionStyleModel",
          "model_module_version": "1.5.0",
          "state": {
            "_model_module": "@jupyter-widgets/controls",
            "_model_module_version": "1.5.0",
            "_model_name": "DescriptionStyleModel",
            "_view_count": null,
            "_view_module": "@jupyter-widgets/base",
            "_view_module_version": "1.2.0",
            "_view_name": "StyleView",
            "description_width": ""
          }
        },
        "39e27a011eb54491ad6ddf9213ed7f8c": {
          "model_module": "@jupyter-widgets/base",
          "model_name": "LayoutModel",
          "model_module_version": "1.2.0",
          "state": {
            "_model_module": "@jupyter-widgets/base",
            "_model_module_version": "1.2.0",
            "_model_name": "LayoutModel",
            "_view_count": null,
            "_view_module": "@jupyter-widgets/base",
            "_view_module_version": "1.2.0",
            "_view_name": "LayoutView",
            "align_content": null,
            "align_items": null,
            "align_self": null,
            "border": null,
            "bottom": null,
            "display": null,
            "flex": null,
            "flex_flow": null,
            "grid_area": null,
            "grid_auto_columns": null,
            "grid_auto_flow": null,
            "grid_auto_rows": null,
            "grid_column": null,
            "grid_gap": null,
            "grid_row": null,
            "grid_template_areas": null,
            "grid_template_columns": null,
            "grid_template_rows": null,
            "height": null,
            "justify_content": null,
            "justify_items": null,
            "left": null,
            "margin": null,
            "max_height": null,
            "max_width": null,
            "min_height": null,
            "min_width": null,
            "object_fit": null,
            "object_position": null,
            "order": null,
            "overflow": null,
            "overflow_x": null,
            "overflow_y": null,
            "padding": null,
            "right": null,
            "top": null,
            "visibility": null,
            "width": null
          }
        },
        "7cbef07e28454d9c95013ca876a1126e": {
          "model_module": "@jupyter-widgets/controls",
          "model_name": "ProgressStyleModel",
          "model_module_version": "1.5.0",
          "state": {
            "_model_module": "@jupyter-widgets/controls",
            "_model_module_version": "1.5.0",
            "_model_name": "ProgressStyleModel",
            "_view_count": null,
            "_view_module": "@jupyter-widgets/base",
            "_view_module_version": "1.2.0",
            "_view_name": "StyleView",
            "bar_color": null,
            "description_width": ""
          }
        },
        "1c9d1b9c15c64040a0810a74dafc6b3d": {
          "model_module": "@jupyter-widgets/controls",
          "model_name": "VBoxModel",
          "model_module_version": "1.5.0",
          "state": {
            "_dom_classes": [],
            "_model_module": "@jupyter-widgets/controls",
            "_model_module_version": "1.5.0",
            "_model_name": "VBoxModel",
            "_view_count": null,
            "_view_module": "@jupyter-widgets/controls",
            "_view_module_version": "1.5.0",
            "_view_name": "VBoxView",
            "box_style": "",
            "children": [
              "IPY_MODEL_7053c6753f6745939216bccaaca9a3ec",
              "IPY_MODEL_27f0e550b0b1426ebf661c5f7049e3dd"
            ],
            "layout": "IPY_MODEL_2ae73b82cea44fc8a39439f9c69bacce"
          }
        },
        "7053c6753f6745939216bccaaca9a3ec": {
          "model_module": "@jupyter-widgets/controls",
          "model_name": "LabelModel",
          "model_module_version": "1.5.0",
          "state": {
            "_dom_classes": [],
            "_model_module": "@jupyter-widgets/controls",
            "_model_module_version": "1.5.0",
            "_model_name": "LabelModel",
            "_view_count": null,
            "_view_module": "@jupyter-widgets/controls",
            "_view_module_version": "1.5.0",
            "_view_name": "LabelView",
            "description": "",
            "description_tooltip": null,
            "layout": "IPY_MODEL_79aedc7677634fca9f7ce8c0ba6e48bb",
            "placeholder": "​",
            "style": "IPY_MODEL_51bf080397ee42c5ad2bc6ab74caa8d1",
            "value": "1.295 MB of 1.295 MB uploaded (0.000 MB deduped)\r"
          }
        },
        "27f0e550b0b1426ebf661c5f7049e3dd": {
          "model_module": "@jupyter-widgets/controls",
          "model_name": "FloatProgressModel",
          "model_module_version": "1.5.0",
          "state": {
            "_dom_classes": [],
            "_model_module": "@jupyter-widgets/controls",
            "_model_module_version": "1.5.0",
            "_model_name": "FloatProgressModel",
            "_view_count": null,
            "_view_module": "@jupyter-widgets/controls",
            "_view_module_version": "1.5.0",
            "_view_name": "ProgressView",
            "bar_style": "",
            "description": "",
            "description_tooltip": null,
            "layout": "IPY_MODEL_8755a344d2aa434e9378843e00a6f724",
            "max": 1,
            "min": 0,
            "orientation": "horizontal",
            "style": "IPY_MODEL_356bd09249b94591be9c2d482261a2ae",
            "value": 1
          }
        },
        "2ae73b82cea44fc8a39439f9c69bacce": {
          "model_module": "@jupyter-widgets/base",
          "model_name": "LayoutModel",
          "model_module_version": "1.2.0",
          "state": {
            "_model_module": "@jupyter-widgets/base",
            "_model_module_version": "1.2.0",
            "_model_name": "LayoutModel",
            "_view_count": null,
            "_view_module": "@jupyter-widgets/base",
            "_view_module_version": "1.2.0",
            "_view_name": "LayoutView",
            "align_content": null,
            "align_items": null,
            "align_self": null,
            "border": null,
            "bottom": null,
            "display": null,
            "flex": null,
            "flex_flow": null,
            "grid_area": null,
            "grid_auto_columns": null,
            "grid_auto_flow": null,
            "grid_auto_rows": null,
            "grid_column": null,
            "grid_gap": null,
            "grid_row": null,
            "grid_template_areas": null,
            "grid_template_columns": null,
            "grid_template_rows": null,
            "height": null,
            "justify_content": null,
            "justify_items": null,
            "left": null,
            "margin": null,
            "max_height": null,
            "max_width": null,
            "min_height": null,
            "min_width": null,
            "object_fit": null,
            "object_position": null,
            "order": null,
            "overflow": null,
            "overflow_x": null,
            "overflow_y": null,
            "padding": null,
            "right": null,
            "top": null,
            "visibility": null,
            "width": null
          }
        },
        "79aedc7677634fca9f7ce8c0ba6e48bb": {
          "model_module": "@jupyter-widgets/base",
          "model_name": "LayoutModel",
          "model_module_version": "1.2.0",
          "state": {
            "_model_module": "@jupyter-widgets/base",
            "_model_module_version": "1.2.0",
            "_model_name": "LayoutModel",
            "_view_count": null,
            "_view_module": "@jupyter-widgets/base",
            "_view_module_version": "1.2.0",
            "_view_name": "LayoutView",
            "align_content": null,
            "align_items": null,
            "align_self": null,
            "border": null,
            "bottom": null,
            "display": null,
            "flex": null,
            "flex_flow": null,
            "grid_area": null,
            "grid_auto_columns": null,
            "grid_auto_flow": null,
            "grid_auto_rows": null,
            "grid_column": null,
            "grid_gap": null,
            "grid_row": null,
            "grid_template_areas": null,
            "grid_template_columns": null,
            "grid_template_rows": null,
            "height": null,
            "justify_content": null,
            "justify_items": null,
            "left": null,
            "margin": null,
            "max_height": null,
            "max_width": null,
            "min_height": null,
            "min_width": null,
            "object_fit": null,
            "object_position": null,
            "order": null,
            "overflow": null,
            "overflow_x": null,
            "overflow_y": null,
            "padding": null,
            "right": null,
            "top": null,
            "visibility": null,
            "width": null
          }
        },
        "51bf080397ee42c5ad2bc6ab74caa8d1": {
          "model_module": "@jupyter-widgets/controls",
          "model_name": "DescriptionStyleModel",
          "model_module_version": "1.5.0",
          "state": {
            "_model_module": "@jupyter-widgets/controls",
            "_model_module_version": "1.5.0",
            "_model_name": "DescriptionStyleModel",
            "_view_count": null,
            "_view_module": "@jupyter-widgets/base",
            "_view_module_version": "1.2.0",
            "_view_name": "StyleView",
            "description_width": ""
          }
        },
        "8755a344d2aa434e9378843e00a6f724": {
          "model_module": "@jupyter-widgets/base",
          "model_name": "LayoutModel",
          "model_module_version": "1.2.0",
          "state": {
            "_model_module": "@jupyter-widgets/base",
            "_model_module_version": "1.2.0",
            "_model_name": "LayoutModel",
            "_view_count": null,
            "_view_module": "@jupyter-widgets/base",
            "_view_module_version": "1.2.0",
            "_view_name": "LayoutView",
            "align_content": null,
            "align_items": null,
            "align_self": null,
            "border": null,
            "bottom": null,
            "display": null,
            "flex": null,
            "flex_flow": null,
            "grid_area": null,
            "grid_auto_columns": null,
            "grid_auto_flow": null,
            "grid_auto_rows": null,
            "grid_column": null,
            "grid_gap": null,
            "grid_row": null,
            "grid_template_areas": null,
            "grid_template_columns": null,
            "grid_template_rows": null,
            "height": null,
            "justify_content": null,
            "justify_items": null,
            "left": null,
            "margin": null,
            "max_height": null,
            "max_width": null,
            "min_height": null,
            "min_width": null,
            "object_fit": null,
            "object_position": null,
            "order": null,
            "overflow": null,
            "overflow_x": null,
            "overflow_y": null,
            "padding": null,
            "right": null,
            "top": null,
            "visibility": null,
            "width": null
          }
        },
        "356bd09249b94591be9c2d482261a2ae": {
          "model_module": "@jupyter-widgets/controls",
          "model_name": "ProgressStyleModel",
          "model_module_version": "1.5.0",
          "state": {
            "_model_module": "@jupyter-widgets/controls",
            "_model_module_version": "1.5.0",
            "_model_name": "ProgressStyleModel",
            "_view_count": null,
            "_view_module": "@jupyter-widgets/base",
            "_view_module_version": "1.2.0",
            "_view_name": "StyleView",
            "bar_color": null,
            "description_width": ""
          }
        }
      }
    }
  },
  "cells": [
    {
      "cell_type": "code",
      "execution_count": null,
      "metadata": {
        "id": "CUtCKg-nouBq"
      },
      "outputs": [],
      "source": [
        "!pip install -U wandb\n",
        "!pip install tensorflow\n",
        "!pip install keras"
      ]
    },
    {
      "cell_type": "code",
      "source": [
        "import requests\n",
        "url = 'https://storage.googleapis.com/wandb_datasets/nature_12K.zip'\n",
        "r = requests.get(url, allow_redirects=True)\n",
        "open('nature_12K.zip', 'wb').write(r.content)"
      ],
      "metadata": {
        "id": "DBpLvUhPPXOB"
      },
      "execution_count": null,
      "outputs": []
    },
    {
      "cell_type": "code",
      "source": [
        "!wget 'https://storage.googleapis.com/wandb_datasets/nature_12K.zip'"
      ],
      "metadata": {
        "id": "iO5nh80NPtPa"
      },
      "execution_count": null,
      "outputs": []
    },
    {
      "cell_type": "code",
      "source": [
        "!unzip nature_12K.zip"
      ],
      "metadata": {
        "id": "bOmbrhW9P73A"
      },
      "execution_count": null,
      "outputs": []
    },
    {
      "cell_type": "code",
      "source": [
        "# libraries\n",
        "import os\n",
        "import glob\n",
        "import wandb\n",
        "from wandb.keras import WandbCallback\n",
        "import tensorflow as tf \n",
        "import keras\n",
        "from tensorflow.keras.preprocessing.image import ImageDataGenerator\n",
        "from tensorflow.keras import layers\n",
        "import numpy as np \n",
        "\n",
        "%matplotlib inline\n",
        "%config InlineBackend.figure_format = 'svg'\n",
        "import matplotlib.pyplot as plt\n",
        "import matplotlib.image as mpimg"
      ],
      "metadata": {
        "id": "dNSYudIVpr5O"
      },
      "execution_count": 5,
      "outputs": []
    },
    {
      "cell_type": "code",
      "source": [
        "def load_data(input_shape=(256,256)):\n",
        "\n",
        "\n",
        "    DATA_DIR = r\"/content/inaturalist_12K\"\n",
        "\n",
        "    train_dir = os.path.join(DATA_DIR, \"train\")\n",
        "    val_dir = os.path.join(DATA_DIR, \"val\")\n",
        "\n",
        "    train_generator = ImageDataGenerator(rescale=1./255,\n",
        "                                    rotation_range=50,\n",
        "                                    zoom_range=0.2,\n",
        "                                    shear_range=0.2,\n",
        "                                    horizontal_flip=True)\n",
        "    val_generator =ImageDataGenerator(rescale=1./255)\n",
        "\n",
        "    train_ds = train_generator.flow_from_directory(train_dir, target_size=input_shape, batch_size=128, shuffle=True)\n",
        "    val_ds = val_generator.flow_from_directory(val_dir, target_size=input_shape, batch_size=128)\n",
        "\n",
        "    return train_ds, val_ds\n",
        "\n",
        "# testing out the function\n",
        "train_ds, val_ds = load_data()"
      ],
      "metadata": {
        "id": "XoyrvQEMt6U5"
      },
      "execution_count": null,
      "outputs": []
    },
    {
      "cell_type": "code",
      "source": [
        "## Utility functions for plotting ##\n",
        "def plot_sample_images(dir_path):\n",
        "\n",
        "    subdirs = glob.glob(os.path.join(dir_path,r\"*\"))\n",
        "\n",
        "    fig_height = len(subdirs)//5 \n",
        "\n",
        "    if len(subdirs)%5 != 0:\n",
        "        fig_height+=1\n",
        "\n",
        "    fig, axs = plt.subplots(fig_height, 5, figsize=(10, fig_height*2))\n",
        "    fig.suptitle(\"Sample images from each class\")\n",
        "    axs = axs.reshape(-1)\n",
        "\n",
        "    for i, subdir in enumerate(subdirs):\n",
        "\n",
        "        class_name = os.path.basename(subdir)\n",
        "        axs[i].set_title(class_name)\n",
        "        \n",
        "        img_path = glob.glob(os.path.join(subdir, r\"*\"))[0]\n",
        "        img = mpimg.imread(img_path)    \n",
        "        axs[i].imshow(img)\n",
        "\n",
        "    plt.show()"
      ],
      "metadata": {
        "id": "ennfaES5Qqv1"
      },
      "execution_count": 7,
      "outputs": []
    },
    {
      "cell_type": "code",
      "source": [
        "# Plotting samples using the above function\n",
        "DATA_DIR = r\"/content/inaturalist_12K\"\n",
        "plot_sample_images(os.path.join(DATA_DIR,\"train\"))"
      ],
      "metadata": {
        "id": "SZlmquJ0RTqC"
      },
      "execution_count": null,
      "outputs": []
    },
    {
      "cell_type": "code",
      "source": [
        "class NeuralNet(tf.keras.Model):    \n",
        "\n",
        "    def __init__(self, base_model, image_shape=(256, 256)):\n",
        "\n",
        "        super(NeuralNet, self).__init__()\n",
        "\n",
        "        # instantiating the base model and freezing it's weights\n",
        "        self.base_model = self.select_model(base_model, image_shape)\n",
        "        self.base_model.trainable=False\n",
        "\n",
        "        # The layers below form the classification head \n",
        "        self.conv1 = layers.Conv1D(3, 12, 6, activation=\"relu\")\n",
        "        self.pool1 = layers.MaxPool1D(3,3)\n",
        "        self.bn1 = layers.BatchNormalization()\n",
        "        self.conv2 = layers.Conv1D(3, 6, 3, activation=\"relu\")\n",
        "        self.pool2 = layers.MaxPool1D(3,3)\n",
        "        self.bn2 = layers.BatchNormalization()\n",
        "        self.output_layer = layers.Dense(10, activation=None)\n",
        "\n",
        "    @staticmethod\n",
        "    def select_model(name, image_shape):\n",
        "        \"\"\"Selects the pretrained model to be used\n",
        "        \"\"\"\n",
        "        image_shape = list(image_shape)\n",
        "        image_shape.append(3)\n",
        "        \n",
        "        INPUT_SHAPE = tuple(image_shape) \n",
        "\n",
        "        if name==\"InceptionV3\":\n",
        "            return tf.keras.applications.InceptionV3(include_top=False, input_shape=INPUT_SHAPE, weights='imagenet')\n",
        "        elif name==\"InceptionResNetV2\":\n",
        "            return tf.keras.applications.InceptionResNetV2(include_top=False, input_shape=INPUT_SHAPE, weights='imagenet')\n",
        "        elif name==\"ResNet50\":\n",
        "            return tf.keras.applications.ResNet50(include_top=False, input_shape=INPUT_SHAPE, weights='imagenet')\n",
        "        elif name==\"Xception\":\n",
        "            return tf.keras.applications.Xception(include_top=False, input_shape=INPUT_SHAPE, weights='imagenet')\n",
        "\n",
        "    def call(self, x):\n",
        "        \"\"\"Performs forward pass for the model\"\"\"\n",
        "\n",
        "        x = layers.Flatten()(self.base_model(x))\n",
        "        \n",
        "        x = tf.expand_dims(x, -1)\n",
        "        x = self.bn1(self.pool1(self.conv1(x)))\n",
        "        x = self.bn2(self.pool2(self.conv2(x)))\n",
        "        x = layers.Flatten()(x)\n",
        "\n",
        "        return self.output_layer(x)"
      ],
      "metadata": {
        "id": "pnxFkgqDRhAl"
      },
      "execution_count": 8,
      "outputs": []
    },
    {
      "cell_type": "code",
      "source": [
        "# This is the main function to use to train/fine-tune the model using wandb runs\n",
        "def train_with_wandb(image_shape=(256, 256), epochs=30, fine_tune_epochs=10):\n",
        "\n",
        "    config_defaults = {\"base_model\": \"InceptionV3\"}\n",
        "\n",
        "    wandb.init(config=config_defaults, project=\"Assignment2_PartB\", magic=True)\n",
        "\n",
        "    # 1. Loading the dataset\n",
        "    train_ds, val_ds = load_data(image_shape)\n",
        "\n",
        "    # 2. Initializing the model\n",
        "    model = NeuralNet(wandb.config.base_model, image_shape=image_shape)\n",
        "\n",
        "    # 3. Compiling the model\n",
        "    base_learning_rate = 0.0002\n",
        "\n",
        "    model.compile(optimizer=tf.keras.optimizers.RMSprop(learning_rate=base_learning_rate),\n",
        "                  loss=tf.keras.losses.CategoricalCrossentropy(from_logits=True),\n",
        "                  metrics=['accuracy'])\n",
        "    \n",
        "    # 4. Fitting the model\n",
        "    model.fit(train_ds, \n",
        "              validation_data=val_ds,\n",
        "              epochs=epochs,\n",
        "              callbacks=[WandbCallback()])\n",
        "    print(\"Model trained successfully!!\\n\")\n",
        "\n",
        "    # 5. Fine tuning the model\n",
        "    to_tune_defaults = {\n",
        "        \"InceptionV3\": 55,\n",
        "        \"InceptionResNetV2\": 55,\n",
        "        \"ResNet50\": 50,\n",
        "        \"Xception\": 50\n",
        "    }\n",
        "    \n",
        "    model.base_model.trainable = True\n",
        "    print(f\"Total layers in base model is {len(model.base_model.layers)}\\n\")\n",
        "\n",
        "    fine_tune_at = len(model.base_model.layers) - to_tune_defaults[wandb.config.base_model]\n",
        "\n",
        "    for layer in model.base_model.layers[:fine_tune_at]:\n",
        "        layer.trainable =  False\n",
        "\n",
        "    model.compile(optimizer=tf.keras.optimizers.RMSprop(learning_rate=base_learning_rate/10),\n",
        "                  loss=tf.keras.losses.CategoricalCrossentropy(from_logits=True),\n",
        "                  metrics=['accuracy'])\n",
        "    \n",
        "    print(\"Fine tuning the model ...\\n\")\n",
        "    model.fit(train_ds, \n",
        "              validation_data=val_ds,\n",
        "              epochs=fine_tune_epochs,\n",
        "              callbacks=[WandbCallback()])\n",
        "    print(\"Model tuned successfully!!\\n\")"
      ],
      "metadata": {
        "id": "MBl2Pi1TRsiE"
      },
      "execution_count": 9,
      "outputs": []
    },
    {
      "cell_type": "code",
      "source": [
        "wandb.login()\n",
        "wandb.init(project=\"Assignment2_PartB\", entity=\"sougatsarangi\")"
      ],
      "metadata": {
        "id": "851tT1aITXDR"
      },
      "execution_count": null,
      "outputs": []
    },
    {
      "cell_type": "code",
      "source": [
        "## Setting up the sweep ##\n",
        "sweep_config = {\n",
        "  \"name\": \"My Sweep\",\n",
        "  \"method\": \"grid\",\n",
        "  \"project\": \"Assignment2\",\n",
        "  \"entity\": \"sougatsarangi\",\n",
        "  \"parameters\": {\n",
        "        \"base_model\": {\n",
        "            \"values\": [\"InceptionV3\", \"InceptionResNetV2\", \"ResNet50\", \"Xception\"]\n",
        "        }\n",
        "    }\n",
        "}\n",
        "\n",
        "# creating the sweep\n",
        "sweep_id = wandb.sweep(sweep_config)"
      ],
      "metadata": {
        "colab": {
          "base_uri": "https://localhost:8080/"
        },
        "id": "xdY9QFW6Tkqc",
        "outputId": "f2bc4760-9474-4fb4-bbc2-26e34282a00b"
      },
      "execution_count": 11,
      "outputs": [
        {
          "output_type": "stream",
          "name": "stdout",
          "text": [
            "Create sweep with ID: uvi7chpt\n",
            "Sweep URL: https://wandb.ai/sougatsarangi/uncategorized/sweeps/uvi7chpt\n"
          ]
        }
      ]
    },
    {
      "cell_type": "code",
      "source": [
        "# Running the sweep\n",
        "wandb.agent(sweep_id, function=train_with_wandb)"
      ],
      "metadata": {
        "colab": {
          "base_uri": "https://localhost:8080/",
          "height": 1000,
          "referenced_widgets": [
            "43b0566c1dc94b2788a0d98e75e1eb30",
            "0b4cdb3c73424f8dba5b0d9047712f2d",
            "c89a560502b141d7b398f961ec895a41",
            "a9adfb0f686b461ea6deb558d2529c72",
            "a1265513c6f14f7dae11e58633df6e48",
            "0e68263f38c04877a74e2c14feed5362",
            "51e1b0c3f9054c4dad19ef1c4ce5509a",
            "73456fdac49145d3ad4106c02de178a4",
            "dfadc63fc1d44576b1929e2fffdee270",
            "4adabf5dc088487788c578a8983505f2",
            "68060aa0817447579507797272174997",
            "f61dce59939f44d39024c934b4caf494",
            "718a14ff63a9495aa904e7492f18747c",
            "98fbf8af0deb4dbbbb193bf5cdad1d43",
            "1a5878df337043cd8d608cf7a3f589a5",
            "b20e68de47af4837b1fc931e2a161a06",
            "6223619ee30046389b71295a5846215a",
            "a2c86ffd7fff4a01b512542042d02133",
            "287dbfdf3fea4181adc7cf9cbc38d645",
            "d918ebca72e245f39ec5005f0cd6c04d",
            "baecf79377374248aa8f4a2360121da7",
            "2dd2abd3817c452c8497e53237187a25",
            "39e27a011eb54491ad6ddf9213ed7f8c",
            "7cbef07e28454d9c95013ca876a1126e",
            "1c9d1b9c15c64040a0810a74dafc6b3d",
            "7053c6753f6745939216bccaaca9a3ec",
            "27f0e550b0b1426ebf661c5f7049e3dd",
            "2ae73b82cea44fc8a39439f9c69bacce",
            "79aedc7677634fca9f7ce8c0ba6e48bb",
            "51bf080397ee42c5ad2bc6ab74caa8d1",
            "8755a344d2aa434e9378843e00a6f724",
            "356bd09249b94591be9c2d482261a2ae"
          ]
        },
        "id": "fjgOf_OLTtFU",
        "outputId": "dd5ec02d-a775-470e-eedc-7383579fca50"
      },
      "execution_count": null,
      "outputs": [
        {
          "metadata": {
            "tags": null
          },
          "name": "stderr",
          "output_type": "stream",
          "text": [
            "\u001b[34m\u001b[1mwandb\u001b[0m: \u001b[33mWARNING\u001b[0m Calling wandb.login() after wandb.init() has no effect.\n",
            "\u001b[34m\u001b[1mwandb\u001b[0m: Agent Starting Run: f7vxuynb with config:\n",
            "\u001b[34m\u001b[1mwandb\u001b[0m: \tbase_model: InceptionV3\n",
            "\u001b[34m\u001b[1mwandb\u001b[0m: \u001b[33mWARNING\u001b[0m Ignored wandb.init() arg project when running a sweep.\n"
          ]
        },
        {
          "data": {
            "text/html": [
              "Tracking run with wandb version 0.12.11"
            ],
            "text/plain": [
              "<IPython.core.display.HTML object>"
            ]
          },
          "metadata": {},
          "output_type": "display_data"
        },
        {
          "data": {
            "text/html": [
              "Run data is saved locally in <code>/content/wandb/run-20220402_111226-f7vxuynb</code>"
            ],
            "text/plain": [
              "<IPython.core.display.HTML object>"
            ]
          },
          "metadata": {},
          "output_type": "display_data"
        },
        {
          "data": {
            "text/html": [
              "Syncing run <strong><a href=\"https://wandb.ai/sougatsarangi/uncategorized/runs/f7vxuynb\" target=\"_blank\">upbeat-sweep-1</a></strong> to <a href=\"https://wandb.ai/sougatsarangi/uncategorized\" target=\"_blank\">Weights & Biases</a> (<a href=\"https://wandb.me/run\" target=\"_blank\">docs</a>)<br/>Sweep page:  <a href=\"https://wandb.ai/sougatsarangi/uncategorized/sweeps/uvi7chpt\" target=\"_blank\">https://wandb.ai/sougatsarangi/uncategorized/sweeps/uvi7chpt</a>"
            ],
            "text/plain": [
              "<IPython.core.display.HTML object>"
            ]
          },
          "metadata": {},
          "output_type": "display_data"
        },
        {
          "metadata": {
            "tags": null
          },
          "name": "stderr",
          "output_type": "stream",
          "text": [
            "\u001b[34m\u001b[1mwandb\u001b[0m: \u001b[33mWARNING\u001b[0m Ignored wandb.init() arg project when running a sweep.\n"
          ]
        },
        {
          "data": {
            "text/html": [
              "Finishing last run (ID:f7vxuynb) before initializing another..."
            ],
            "text/plain": [
              "<IPython.core.display.HTML object>"
            ]
          },
          "metadata": {},
          "output_type": "display_data"
        },
        {
          "metadata": {
            "tags": null
          },
          "name": "stdout",
          "output_type": "stream",
          "text": [
            "\n"
          ]
        },
        {
          "data": {
            "text/html": [
              "Waiting for W&B process to finish... <strong style=\"color:green\">(success).</strong>"
            ],
            "text/plain": [
              "<IPython.core.display.HTML object>"
            ]
          },
          "metadata": {},
          "output_type": "display_data"
        },
        {
          "data": {
            "application/vnd.jupyter.widget-view+json": {
              "model_id": "43b0566c1dc94b2788a0d98e75e1eb30",
              "version_major": 2,
              "version_minor": 0
            },
            "text/plain": [
              "VBox(children=(Label(value='0.001 MB of 0.001 MB uploaded (0.000 MB deduped)\\r'), FloatProgress(value=1.0, max…"
            ]
          },
          "metadata": {},
          "output_type": "display_data"
        },
        {
          "data": {
            "text/html": [
              "Synced <strong style=\"color:#cdcd00\">upbeat-sweep-1</strong>: <a href=\"https://wandb.ai/sougatsarangi/uncategorized/runs/f7vxuynb\" target=\"_blank\">https://wandb.ai/sougatsarangi/uncategorized/runs/f7vxuynb</a><br/>Synced 5 W&B file(s), 0 media file(s), 0 artifact file(s) and 0 other file(s)"
            ],
            "text/plain": [
              "<IPython.core.display.HTML object>"
            ]
          },
          "metadata": {},
          "output_type": "display_data"
        },
        {
          "data": {
            "text/html": [
              "Find logs at: <code>./wandb/run-20220402_111226-f7vxuynb/logs</code>"
            ],
            "text/plain": [
              "<IPython.core.display.HTML object>"
            ]
          },
          "metadata": {},
          "output_type": "display_data"
        },
        {
          "data": {
            "text/html": [
              "Successfully finished last run (ID:f7vxuynb). Initializing new run:<br/>"
            ],
            "text/plain": [
              "<IPython.core.display.HTML object>"
            ]
          },
          "metadata": {},
          "output_type": "display_data"
        },
        {
          "data": {
            "text/html": [
              "Tracking run with wandb version 0.12.11"
            ],
            "text/plain": [
              "<IPython.core.display.HTML object>"
            ]
          },
          "metadata": {},
          "output_type": "display_data"
        },
        {
          "data": {
            "text/html": [
              "Run data is saved locally in <code>/content/wandb/run-20220402_111234-f7vxuynb</code>"
            ],
            "text/plain": [
              "<IPython.core.display.HTML object>"
            ]
          },
          "metadata": {},
          "output_type": "display_data"
        },
        {
          "data": {
            "text/html": [
              "Syncing run <strong><a href=\"https://wandb.ai/sougatsarangi/uncategorized/runs/f7vxuynb\" target=\"_blank\">upbeat-sweep-1</a></strong> to <a href=\"https://wandb.ai/sougatsarangi/uncategorized\" target=\"_blank\">Weights & Biases</a> (<a href=\"https://wandb.me/run\" target=\"_blank\">docs</a>)<br/>Sweep page:  <a href=\"https://wandb.ai/sougatsarangi/uncategorized/sweeps/uvi7chpt\" target=\"_blank\">https://wandb.ai/sougatsarangi/uncategorized/sweeps/uvi7chpt</a>"
            ],
            "text/plain": [
              "<IPython.core.display.HTML object>"
            ]
          },
          "metadata": {},
          "output_type": "display_data"
        },
        {
          "metadata": {
            "tags": null
          },
          "name": "stdout",
          "output_type": "stream",
          "text": [
            "1. Loading the dataset ...\n",
            "\n",
            "Found 9999 images belonging to 10 classes.\n",
            "Found 2000 images belonging to 10 classes.\n",
            "2. Initializing the model ...\n",
            "\n",
            "Downloading data from https://storage.googleapis.com/tensorflow/keras-applications/inception_v3/inception_v3_weights_tf_dim_ordering_tf_kernels_notop.h5\n",
            "87916544/87910968 [==============================] - 1s 0us/step\n",
            "87924736/87910968 [==============================] - 1s 0us/step\n",
            "3. Compiling the model ...\n",
            "\n",
            "4. Fitting the model ...\n",
            "\n",
            "Epoch 1/2\n",
            "79/79 [==============================] - ETA: 0s - loss: 2.5307 - accuracy: 0.1890 "
          ]
        },
        {
          "metadata": {
            "tags": null
          },
          "name": "stderr",
          "output_type": "stream",
          "text": [
            "\u001b[34m\u001b[1mwandb\u001b[0m: \u001b[32m\u001b[41mERROR\u001b[0m Can't save model, h5py returned error: Saving the model to HDF5 format requires the model to be a Functional model or a Sequential model. It does not work for subclassed models, because such models are defined via the body of a Python method, which isn't safely serializable. Consider saving to the Tensorflow SavedModel format (by setting save_format=\"tf\") or using `save_weights`.\n"
          ]
        },
        {
          "metadata": {
            "tags": null
          },
          "name": "stdout",
          "output_type": "stream",
          "text": [
            "79/79 [==============================] - 1936s 24s/step - loss: 2.5307 - accuracy: 0.1890 - val_loss: 2.1786 - val_accuracy: 0.2025 - _timestamp: 1648899931.0000 - _runtime: 1973.0000\n",
            "Epoch 2/2\n",
            "79/79 [==============================] - 1929s 24s/step - loss: 2.0840 - accuracy: 0.3091 - val_loss: 1.9712 - val_accuracy: 0.3140 - _timestamp: 1648901872.0000 - _runtime: 3914.0000\n",
            "Model trained successfully!!\n",
            "\n",
            "Total layers in base model is 311\n",
            "\n",
            "Fine tuning the model ...\n",
            "\n",
            "Epoch 1/2\n",
            "79/79 [==============================] - ETA: 0s - loss: 1.7554 - accuracy: 0.4282 "
          ]
        },
        {
          "metadata": {
            "tags": null
          },
          "name": "stderr",
          "output_type": "stream",
          "text": [
            "\u001b[34m\u001b[1mwandb\u001b[0m: \u001b[32m\u001b[41mERROR\u001b[0m Can't save model, h5py returned error: Saving the model to HDF5 format requires the model to be a Functional model or a Sequential model. It does not work for subclassed models, because such models are defined via the body of a Python method, which isn't safely serializable. Consider saving to the Tensorflow SavedModel format (by setting save_format=\"tf\") or using `save_weights`.\n"
          ]
        },
        {
          "metadata": {
            "tags": null
          },
          "name": "stdout",
          "output_type": "stream",
          "text": [
            "79/79 [==============================] - 2288s 29s/step - loss: 1.7554 - accuracy: 0.4282 - val_loss: 1.4353 - val_accuracy: 0.5575 - _timestamp: 1648904164.0000 - _runtime: 6206.0000\n",
            "Epoch 2/2\n",
            "79/79 [==============================] - 2250s 28s/step - loss: 1.3695 - accuracy: 0.5651 - val_loss: 1.1044 - val_accuracy: 0.6650 - _timestamp: 1648906414.0000 - _runtime: 8456.0000\n",
            "Model tuned successfully!!\n",
            "\n",
            "\n"
          ]
        },
        {
          "data": {
            "text/html": [
              "Waiting for W&B process to finish... <strong style=\"color:green\">(success).</strong>"
            ],
            "text/plain": [
              "<IPython.core.display.HTML object>"
            ]
          },
          "metadata": {},
          "output_type": "display_data"
        },
        {
          "data": {
            "application/vnd.jupyter.widget-view+json": {
              "model_id": "dfadc63fc1d44576b1929e2fffdee270",
              "version_major": 2,
              "version_minor": 0
            },
            "text/plain": [
              "VBox(children=(Label(value='1.525 MB of 1.525 MB uploaded (0.000 MB deduped)\\r'), FloatProgress(value=1.0, max…"
            ]
          },
          "metadata": {},
          "output_type": "display_data"
        },
        {
          "data": {
            "text/html": [
              "<style>\n",
              "    table.wandb td:nth-child(1) { padding: 0 10px; text-align: right }\n",
              "    .wandb-row { display: flex; flex-direction: row; flex-wrap: wrap; width: 100% }\n",
              "    .wandb-col { display: flex; flex-direction: column; flex-basis: 100%; flex: 1; padding: 10px; }\n",
              "    </style>\n",
              "<div class=\"wandb-row\"><div class=\"wandb-col\"><h3>Run history:</h3><br/><table class=\"wandb\"><tr><td>accuracy</td><td>▁▃▅█</td></tr><tr><td>epoch</td><td>▁█▁█</td></tr><tr><td>loss</td><td>█▅▃▁</td></tr><tr><td>val_accuracy</td><td>▁▃▆█</td></tr><tr><td>val_loss</td><td>█▇▃▁</td></tr></table><br/></div><div class=\"wandb-col\"><h3>Run summary:</h3><br/><table class=\"wandb\"><tr><td>accuracy</td><td>0.56506</td></tr><tr><td>best_epoch</td><td>1</td></tr><tr><td>best_val_loss</td><td>1.1044</td></tr><tr><td>epoch</td><td>1</td></tr><tr><td>loss</td><td>1.36953</td></tr><tr><td>val_accuracy</td><td>0.665</td></tr><tr><td>val_loss</td><td>1.1044</td></tr></table><br/></div></div>"
            ],
            "text/plain": [
              "<IPython.core.display.HTML object>"
            ]
          },
          "metadata": {},
          "output_type": "display_data"
        },
        {
          "data": {
            "text/html": [
              "Synced <strong style=\"color:#cdcd00\">upbeat-sweep-1</strong>: <a href=\"https://wandb.ai/sougatsarangi/uncategorized/runs/f7vxuynb\" target=\"_blank\">https://wandb.ai/sougatsarangi/uncategorized/runs/f7vxuynb</a><br/>Synced 5 W&B file(s), 1 media file(s), 0 artifact file(s) and 4 other file(s)"
            ],
            "text/plain": [
              "<IPython.core.display.HTML object>"
            ]
          },
          "metadata": {},
          "output_type": "display_data"
        },
        {
          "data": {
            "text/html": [
              "Find logs at: <code>./wandb/run-20220402_111234-f7vxuynb/logs</code>"
            ],
            "text/plain": [
              "<IPython.core.display.HTML object>"
            ]
          },
          "metadata": {},
          "output_type": "display_data"
        },
        {
          "metadata": {
            "tags": null
          },
          "name": "stderr",
          "output_type": "stream",
          "text": [
            "\u001b[34m\u001b[1mwandb\u001b[0m: Agent Starting Run: qojp3a3y with config:\n",
            "\u001b[34m\u001b[1mwandb\u001b[0m: \tbase_model: InceptionResNetV2\n",
            "\u001b[34m\u001b[1mwandb\u001b[0m: \u001b[33mWARNING\u001b[0m Ignored wandb.init() arg project when running a sweep.\n"
          ]
        },
        {
          "data": {
            "text/html": [
              "Tracking run with wandb version 0.12.11"
            ],
            "text/plain": [
              "<IPython.core.display.HTML object>"
            ]
          },
          "metadata": {},
          "output_type": "display_data"
        },
        {
          "data": {
            "text/html": [
              "Run data is saved locally in <code>/content/wandb/run-20220402_133441-qojp3a3y</code>"
            ],
            "text/plain": [
              "<IPython.core.display.HTML object>"
            ]
          },
          "metadata": {},
          "output_type": "display_data"
        },
        {
          "data": {
            "text/html": [
              "Syncing run <strong><a href=\"https://wandb.ai/sougatsarangi/uncategorized/runs/qojp3a3y\" target=\"_blank\">rich-sweep-2</a></strong> to <a href=\"https://wandb.ai/sougatsarangi/uncategorized\" target=\"_blank\">Weights & Biases</a> (<a href=\"https://wandb.me/run\" target=\"_blank\">docs</a>)<br/>Sweep page:  <a href=\"https://wandb.ai/sougatsarangi/uncategorized/sweeps/uvi7chpt\" target=\"_blank\">https://wandb.ai/sougatsarangi/uncategorized/sweeps/uvi7chpt</a>"
            ],
            "text/plain": [
              "<IPython.core.display.HTML object>"
            ]
          },
          "metadata": {},
          "output_type": "display_data"
        },
        {
          "metadata": {
            "tags": null
          },
          "name": "stdout",
          "output_type": "stream",
          "text": [
            "1. Loading the dataset ...\n",
            "\n",
            "Found 9999 images belonging to 10 classes.\n",
            "Found 2000 images belonging to 10 classes.\n",
            "2. Initializing the model ...\n",
            "\n",
            "Downloading data from https://storage.googleapis.com/tensorflow/keras-applications/inception_resnet_v2/inception_resnet_v2_weights_tf_dim_ordering_tf_kernels_notop.h5\n",
            "219062272/219055592 [==============================] - 2s 0us/step\n",
            "219070464/219055592 [==============================] - 2s 0us/step\n",
            "3. Compiling the model ...\n",
            "\n",
            "4. Fitting the model ...\n",
            "\n",
            "Epoch 1/2\n",
            "79/79 [==============================] - ETA: 0s - loss: 2.5117 - accuracy: 0.1861 "
          ]
        },
        {
          "metadata": {
            "tags": null
          },
          "name": "stderr",
          "output_type": "stream",
          "text": [
            "\u001b[34m\u001b[1mwandb\u001b[0m: \u001b[32m\u001b[41mERROR\u001b[0m Can't save model, h5py returned error: Saving the model to HDF5 format requires the model to be a Functional model or a Sequential model. It does not work for subclassed models, because such models are defined via the body of a Python method, which isn't safely serializable. Consider saving to the Tensorflow SavedModel format (by setting save_format=\"tf\") or using `save_weights`.\n"
          ]
        },
        {
          "metadata": {
            "tags": null
          },
          "name": "stdout",
          "output_type": "stream",
          "text": [
            "79/79 [==============================] - 4086s 52s/step - loss: 2.5117 - accuracy: 0.1861 - val_loss: 2.0937 - val_accuracy: 0.2980 - _timestamp: 1648910639.0000 - _runtime: 4158.0000\n",
            "Epoch 2/2\n",
            "79/79 [==============================] - 4053s 51s/step - loss: 2.0164 - accuracy: 0.3441 - val_loss: 1.8137 - val_accuracy: 0.4430 - _timestamp: 1648914692.0000 - _runtime: 8211.0000\n",
            "Model trained successfully!!\n",
            "\n",
            "Total layers in base model is 780\n",
            "\n",
            "Fine tuning the model ...\n",
            "\n",
            "Epoch 1/2\n",
            "79/79 [==============================] - ETA: 0s - loss: 1.7118 - accuracy: 0.4532 "
          ]
        },
        {
          "metadata": {
            "tags": null
          },
          "name": "stderr",
          "output_type": "stream",
          "text": [
            "\u001b[34m\u001b[1mwandb\u001b[0m: \u001b[32m\u001b[41mERROR\u001b[0m Can't save model, h5py returned error: Saving the model to HDF5 format requires the model to be a Functional model or a Sequential model. It does not work for subclassed models, because such models are defined via the body of a Python method, which isn't safely serializable. Consider saving to the Tensorflow SavedModel format (by setting save_format=\"tf\") or using `save_weights`.\n"
          ]
        },
        {
          "metadata": {
            "tags": null
          },
          "name": "stdout",
          "output_type": "stream",
          "text": [
            "79/79 [==============================] - 4589s 58s/step - loss: 1.7118 - accuracy: 0.4532 - val_loss: 1.3677 - val_accuracy: 0.5940 - _timestamp: 1648919333.0000 - _runtime: 12852.0000\n",
            "Epoch 2/2\n",
            "79/79 [==============================] - 4540s 57s/step - loss: 1.3355 - accuracy: 0.5833 - val_loss: 1.0940 - val_accuracy: 0.6705 - _timestamp: 1648923874.0000 - _runtime: 17393.0000\n",
            "Model tuned successfully!!\n",
            "\n",
            "\n"
          ]
        },
        {
          "data": {
            "text/html": [
              "Waiting for W&B process to finish... <strong style=\"color:green\">(success).</strong>"
            ],
            "text/plain": [
              "<IPython.core.display.HTML object>"
            ]
          },
          "metadata": {},
          "output_type": "display_data"
        },
        {
          "data": {
            "application/vnd.jupyter.widget-view+json": {
              "model_id": "6223619ee30046389b71295a5846215a",
              "version_major": 2,
              "version_minor": 0
            },
            "text/plain": [
              "VBox(children=(Label(value='3.508 MB of 3.508 MB uploaded (0.000 MB deduped)\\r'), FloatProgress(value=1.0, max…"
            ]
          },
          "metadata": {},
          "output_type": "display_data"
        },
        {
          "data": {
            "text/html": [
              "<style>\n",
              "    table.wandb td:nth-child(1) { padding: 0 10px; text-align: right }\n",
              "    .wandb-row { display: flex; flex-direction: row; flex-wrap: wrap; width: 100% }\n",
              "    .wandb-col { display: flex; flex-direction: column; flex-basis: 100%; flex: 1; padding: 10px; }\n",
              "    </style>\n",
              "<div class=\"wandb-row\"><div class=\"wandb-col\"><h3>Run history:</h3><br/><table class=\"wandb\"><tr><td>accuracy</td><td>▁▄▆█</td></tr><tr><td>epoch</td><td>▁█▁█</td></tr><tr><td>loss</td><td>█▅▃▁</td></tr><tr><td>val_accuracy</td><td>▁▄▇█</td></tr><tr><td>val_loss</td><td>█▆▃▁</td></tr></table><br/></div><div class=\"wandb-col\"><h3>Run summary:</h3><br/><table class=\"wandb\"><tr><td>accuracy</td><td>0.58326</td></tr><tr><td>best_epoch</td><td>1</td></tr><tr><td>best_val_loss</td><td>1.09402</td></tr><tr><td>epoch</td><td>1</td></tr><tr><td>loss</td><td>1.33548</td></tr><tr><td>val_accuracy</td><td>0.6705</td></tr><tr><td>val_loss</td><td>1.09402</td></tr></table><br/></div></div>"
            ],
            "text/plain": [
              "<IPython.core.display.HTML object>"
            ]
          },
          "metadata": {},
          "output_type": "display_data"
        },
        {
          "data": {
            "text/html": [
              "Synced <strong style=\"color:#cdcd00\">rich-sweep-2</strong>: <a href=\"https://wandb.ai/sougatsarangi/uncategorized/runs/qojp3a3y\" target=\"_blank\">https://wandb.ai/sougatsarangi/uncategorized/runs/qojp3a3y</a><br/>Synced 5 W&B file(s), 1 media file(s), 0 artifact file(s) and 4 other file(s)"
            ],
            "text/plain": [
              "<IPython.core.display.HTML object>"
            ]
          },
          "metadata": {},
          "output_type": "display_data"
        },
        {
          "data": {
            "text/html": [
              "Find logs at: <code>./wandb/run-20220402_133441-qojp3a3y/logs</code>"
            ],
            "text/plain": [
              "<IPython.core.display.HTML object>"
            ]
          },
          "metadata": {},
          "output_type": "display_data"
        },
        {
          "metadata": {
            "tags": null
          },
          "name": "stderr",
          "output_type": "stream",
          "text": [
            "\u001b[34m\u001b[1mwandb\u001b[0m: Agent Starting Run: ot9xmd0g with config:\n",
            "\u001b[34m\u001b[1mwandb\u001b[0m: \tbase_model: ResNet50\n",
            "\u001b[34m\u001b[1mwandb\u001b[0m: \u001b[33mWARNING\u001b[0m Ignored wandb.init() arg project when running a sweep.\n"
          ]
        },
        {
          "data": {
            "text/html": [
              "Tracking run with wandb version 0.12.11"
            ],
            "text/plain": [
              "<IPython.core.display.HTML object>"
            ]
          },
          "metadata": {},
          "output_type": "display_data"
        },
        {
          "data": {
            "text/html": [
              "Run data is saved locally in <code>/content/wandb/run-20220402_182527-ot9xmd0g</code>"
            ],
            "text/plain": [
              "<IPython.core.display.HTML object>"
            ]
          },
          "metadata": {},
          "output_type": "display_data"
        },
        {
          "data": {
            "text/html": [
              "Syncing run <strong><a href=\"https://wandb.ai/sougatsarangi/uncategorized/runs/ot9xmd0g\" target=\"_blank\">lemon-sweep-3</a></strong> to <a href=\"https://wandb.ai/sougatsarangi/uncategorized\" target=\"_blank\">Weights & Biases</a> (<a href=\"https://wandb.me/run\" target=\"_blank\">docs</a>)<br/>Sweep page:  <a href=\"https://wandb.ai/sougatsarangi/uncategorized/sweeps/uvi7chpt\" target=\"_blank\">https://wandb.ai/sougatsarangi/uncategorized/sweeps/uvi7chpt</a>"
            ],
            "text/plain": [
              "<IPython.core.display.HTML object>"
            ]
          },
          "metadata": {},
          "output_type": "display_data"
        },
        {
          "metadata": {
            "tags": null
          },
          "name": "stdout",
          "output_type": "stream",
          "text": [
            "1. Loading the dataset ...\n",
            "\n",
            "Found 9999 images belonging to 10 classes.\n",
            "Found 2000 images belonging to 10 classes.\n",
            "2. Initializing the model ...\n",
            "\n",
            "Downloading data from https://storage.googleapis.com/tensorflow/keras-applications/resnet/resnet50_weights_tf_dim_ordering_tf_kernels_notop.h5\n",
            "94773248/94765736 [==============================] - 1s 0us/step\n",
            "94781440/94765736 [==============================] - 1s 0us/step\n",
            "3. Compiling the model ...\n",
            "\n",
            "4. Fitting the model ...\n",
            "\n",
            "Epoch 1/2\n",
            "79/79 [==============================] - ETA: 0s - loss: 2.3277 - accuracy: 0.1181 "
          ]
        },
        {
          "metadata": {
            "tags": null
          },
          "name": "stderr",
          "output_type": "stream",
          "text": [
            "\u001b[34m\u001b[1mwandb\u001b[0m: \u001b[32m\u001b[41mERROR\u001b[0m Can't save model, h5py returned error: Saving the model to HDF5 format requires the model to be a Functional model or a Sequential model. It does not work for subclassed models, because such models are defined via the body of a Python method, which isn't safely serializable. Consider saving to the Tensorflow SavedModel format (by setting save_format=\"tf\") or using `save_weights`.\n"
          ]
        },
        {
          "metadata": {
            "tags": null
          },
          "name": "stdout",
          "output_type": "stream",
          "text": [
            "79/79 [==============================] - 2722s 34s/step - loss: 2.3277 - accuracy: 0.1181 - val_loss: 2.4233 - val_accuracy: 0.1085 - _timestamp: 1648926695.0000 - _runtime: 2768.0000\n",
            "Epoch 2/2\n",
            "79/79 [==============================] - 2703s 34s/step - loss: 2.2838 - accuracy: 0.1339 - val_loss: 2.2964 - val_accuracy: 0.1105 - _timestamp: 1648929398.0000 - _runtime: 5471.0000\n",
            "Model trained successfully!!\n",
            "\n",
            "Total layers in base model is 175\n",
            "\n",
            "Fine tuning the model ...\n",
            "\n",
            "Epoch 1/2\n",
            "79/79 [==============================] - 4620s 58s/step - loss: 2.5256 - accuracy: 0.1510 - val_loss: 2.4658 - val_accuracy: 0.1030 - _timestamp: 1648934040.0000 - _runtime: 10113.0000\n",
            "Epoch 2/2\n",
            "79/79 [==============================] - 4674s 59s/step - loss: 2.2482 - accuracy: 0.1873 - val_loss: 2.3924 - val_accuracy: 0.1350 - _timestamp: 1648938714.0000 - _runtime: 14787.0000\n",
            "Model tuned successfully!!\n",
            "\n",
            "\n"
          ]
        },
        {
          "data": {
            "text/html": [
              "Waiting for W&B process to finish... <strong style=\"color:green\">(success).</strong>"
            ],
            "text/plain": [
              "<IPython.core.display.HTML object>"
            ]
          },
          "metadata": {},
          "output_type": "display_data"
        },
        {
          "data": {
            "application/vnd.jupyter.widget-view+json": {
              "model_id": "1c9d1b9c15c64040a0810a74dafc6b3d",
              "version_major": 2,
              "version_minor": 0
            },
            "text/plain": [
              "VBox(children=(Label(value='1.285 MB of 1.285 MB uploaded (0.000 MB deduped)\\r'), FloatProgress(value=1.0, max…"
            ]
          },
          "metadata": {},
          "output_type": "display_data"
        },
        {
          "data": {
            "text/html": [
              "<style>\n",
              "    table.wandb td:nth-child(1) { padding: 0 10px; text-align: right }\n",
              "    .wandb-row { display: flex; flex-direction: row; flex-wrap: wrap; width: 100% }\n",
              "    .wandb-col { display: flex; flex-direction: column; flex-basis: 100%; flex: 1; padding: 10px; }\n",
              "    </style>\n",
              "<div class=\"wandb-row\"><div class=\"wandb-col\"><h3>Run history:</h3><br/><table class=\"wandb\"><tr><td>accuracy</td><td>▁▃▄█</td></tr><tr><td>epoch</td><td>▁█▁█</td></tr><tr><td>loss</td><td>▃▂█▁</td></tr><tr><td>val_accuracy</td><td>▂▃▁█</td></tr><tr><td>val_loss</td><td>▆▁█▅</td></tr></table><br/></div><div class=\"wandb-col\"><h3>Run summary:</h3><br/><table class=\"wandb\"><tr><td>accuracy</td><td>0.18732</td></tr><tr><td>best_epoch</td><td>1</td></tr><tr><td>best_val_loss</td><td>2.29644</td></tr><tr><td>epoch</td><td>1</td></tr><tr><td>loss</td><td>2.24824</td></tr><tr><td>val_accuracy</td><td>0.135</td></tr><tr><td>val_loss</td><td>2.39236</td></tr></table><br/></div></div>"
            ],
            "text/plain": [
              "<IPython.core.display.HTML object>"
            ]
          },
          "metadata": {},
          "output_type": "display_data"
        },
        {
          "data": {
            "text/html": [
              "Synced <strong style=\"color:#cdcd00\">lemon-sweep-3</strong>: <a href=\"https://wandb.ai/sougatsarangi/uncategorized/runs/ot9xmd0g\" target=\"_blank\">https://wandb.ai/sougatsarangi/uncategorized/runs/ot9xmd0g</a><br/>Synced 5 W&B file(s), 1 media file(s), 0 artifact file(s) and 4 other file(s)"
            ],
            "text/plain": [
              "<IPython.core.display.HTML object>"
            ]
          },
          "metadata": {},
          "output_type": "display_data"
        },
        {
          "data": {
            "text/html": [
              "Find logs at: <code>./wandb/run-20220402_182527-ot9xmd0g/logs</code>"
            ],
            "text/plain": [
              "<IPython.core.display.HTML object>"
            ]
          },
          "metadata": {},
          "output_type": "display_data"
        },
        {
          "metadata": {
            "tags": null
          },
          "name": "stderr",
          "output_type": "stream",
          "text": [
            "\u001b[34m\u001b[1mwandb\u001b[0m: Agent Starting Run: srlvb143 with config:\n",
            "\u001b[34m\u001b[1mwandb\u001b[0m: \tbase_model: Xception\n",
            "\u001b[34m\u001b[1mwandb\u001b[0m: \u001b[33mWARNING\u001b[0m Ignored wandb.init() arg project when running a sweep.\n"
          ]
        },
        {
          "data": {
            "text/html": [
              "Tracking run with wandb version 0.12.11"
            ],
            "text/plain": [
              "<IPython.core.display.HTML object>"
            ]
          },
          "metadata": {},
          "output_type": "display_data"
        },
        {
          "data": {
            "text/html": [
              "Run data is saved locally in <code>/content/wandb/run-20220402_223233-srlvb143</code>"
            ],
            "text/plain": [
              "<IPython.core.display.HTML object>"
            ]
          },
          "metadata": {},
          "output_type": "display_data"
        },
        {
          "data": {
            "text/html": [
              "Syncing run <strong><a href=\"https://wandb.ai/sougatsarangi/uncategorized/runs/srlvb143\" target=\"_blank\">driven-sweep-4</a></strong> to <a href=\"https://wandb.ai/sougatsarangi/uncategorized\" target=\"_blank\">Weights & Biases</a> (<a href=\"https://wandb.me/run\" target=\"_blank\">docs</a>)<br/>Sweep page:  <a href=\"https://wandb.ai/sougatsarangi/uncategorized/sweeps/uvi7chpt\" target=\"_blank\">https://wandb.ai/sougatsarangi/uncategorized/sweeps/uvi7chpt</a>"
            ],
            "text/plain": [
              "<IPython.core.display.HTML object>"
            ]
          },
          "metadata": {},
          "output_type": "display_data"
        },
        {
          "output_type": "stream",
          "name": "stdout",
          "text": [
            "1. Loading the dataset ...\n",
            "\n",
            "Found 9999 images belonging to 10 classes.\n",
            "Found 2000 images belonging to 10 classes.\n",
            "2. Initializing the model ...\n",
            "\n",
            "Downloading data from https://storage.googleapis.com/tensorflow/keras-applications/xception/xception_weights_tf_dim_ordering_tf_kernels_notop.h5\n",
            "83689472/83683744 [==============================] - 1s 0us/step\n",
            "83697664/83683744 [==============================] - 1s 0us/step\n",
            "3. Compiling the model ...\n",
            "\n",
            "4. Fitting the model ...\n",
            "\n",
            "Epoch 1/2\n",
            "61/79 [======================>.......] - ETA: 9:53 - loss: 2.4543 - accuracy: 0.1796 "
          ]
        }
      ]
    }
  ]
}